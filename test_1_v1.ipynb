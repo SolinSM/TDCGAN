{
  "nbformat": 4,
  "nbformat_minor": 0,
  "metadata": {
    "colab": {
      "provenance": [],
      "collapsed_sections": [
        "ZJGurxsfR6pH",
        "sC3cFihQbPDV",
        "zhnXYBERctBW",
        "huEcrKC3uT5J",
        "7swcRJPYRNDw"
      ],
      "toc_visible": true,
      "authorship_tag": "ABX9TyMVou/yMUkgu42HbyUZmAnC",
      "include_colab_link": true
    },
    "kernelspec": {
      "name": "python3",
      "display_name": "Python 3"
    },
    "language_info": {
      "name": "python"
    }
  },
  "cells": [
    {
      "cell_type": "markdown",
      "metadata": {
        "id": "view-in-github",
        "colab_type": "text"
      },
      "source": [
        "<a href=\"https://colab.research.google.com/github/SolinSM/TDCGAN/blob/main/test_1_v1.ipynb\" target=\"_parent\"><img src=\"https://colab.research.google.com/assets/colab-badge.svg\" alt=\"Open In Colab\"/></a>"
      ]
    },
    {
      "cell_type": "code",
      "source": [
        "'''import os\n",
        "import pandas as pd\n",
        "\n",
        "directory = '/Datasets'\n",
        "print(123)\n",
        "files = [f for f in os.listdir(directory) if f.endswith('.csv')]\n",
        "    #data_df = pd.DataFrame()\n",
        "    for file in files:\n",
        "        # Construct the full file path\n",
        "        file_path = os.path.join(directory, file)\n",
        "\n",
        "        # Read the CSV file and load data file into a dataframe\n",
        "        df = pd.read_csv(file_path,low_memory=False)\n",
        "        print('file' , file_path , ' type:', type(df))\n",
        "        print('file' , file_path , ' has shape:', df.shape)\n",
        "\n",
        "        # Calculate the total number of rows in the DataFrame\n",
        "        total_rows = len(df)\n",
        "        # Calculate the number of rows to read based on the percentage\n",
        "        #num_rows = int(total_rows * (percent / 100))'''"
      ],
      "metadata": {
        "id": "Qa9rL1c_7z2c",
        "colab": {
          "base_uri": "https://localhost:8080/",
          "height": 110
        },
        "outputId": "9332b5ae-2205-4dde-d4f3-e05ce3accbc5"
      },
      "execution_count": 2,
      "outputs": [
        {
          "output_type": "error",
          "ename": "IndentationError",
          "evalue": "unexpected indent (<ipython-input-2-a3d2421b9910>, line 8)",
          "traceback": [
            "\u001b[0;36m  File \u001b[0;32m\"<ipython-input-2-a3d2421b9910>\"\u001b[0;36m, line \u001b[0;32m8\u001b[0m\n\u001b[0;31m    for file in files:\u001b[0m\n\u001b[0m    ^\u001b[0m\n\u001b[0;31mIndentationError\u001b[0m\u001b[0;31m:\u001b[0m unexpected indent\n"
          ]
        }
      ]
    },
    {
      "cell_type": "code",
      "source": [
        "'''import os\n",
        "import pandas as pd\n",
        "import random\n",
        "from google.colab import drive\n",
        "drive.mount('/content/drive')\n",
        "\n",
        "def read_csv_files(directory,percent):\n",
        "    #this function read all files in a directory with a specific percent\n",
        "    # Get a list of all files in the directory\n",
        "    files = [f for f in os.listdir(directory) if f.endswith('.csv')]\n",
        "    data_df = pd.DataFrame()\n",
        "    firstFile = True\n",
        "    for file in files:\n",
        "        # Construct the full file path\n",
        "        file_path = os.path.join(directory, file)\n",
        "        # Read the CSV file and load data file into a dataframe\n",
        "        df = pd.read_csv(file_path,low_memory=False)\n",
        "        print('file' , file_path , ' type:', type(df))\n",
        "        print('file' , file_path , ' has shape:', df.shape)\n",
        "        # Calculate the total number of rows in the DataFrame\n",
        "        total_rows = len(df)\n",
        "        # Calculate the number of rows to read based on the percentage\n",
        "        num_rows = int(total_rows * (percent / 100))\n",
        "        # Generate a list of random indices\n",
        "        random_indices = random.sample(range(total_rows), num_rows)\n",
        "        # Select the random rows from the DataFrame\n",
        "        temp_df = df.iloc[random_indices]\n",
        "        if(firstFile):\n",
        "          # Concatenate all DataFrames into one\n",
        "           data_df = temp_df.copy()\n",
        "           firstFile = False\n",
        "        else:\n",
        "          # Concatenate all DataFrames into one\n",
        "          data_df = pd.concat([data_df,temp_df], ignore_index=True)\n",
        "    return data_df\n",
        "\n",
        "path = '/content/TDCGAN_project/Datasets' #'/content/drive/MyDrive/code/ids/CIC-IDS2017'\n",
        "percent =  100 #100% from each file (8 files)\n",
        "data = read_csv_files(path,percent)\n",
        "#data = upclasses(data,' Label',2000)\n",
        "#data[' Label'].value_counts()\n",
        "\n",
        "#save data to file\n",
        "path= '/content/TDCGAN_project/Datasets' #'/content/drive/MyDrive/code/ids/CIC-IDS2017-NEW/'\n",
        "data.to_csv(path + 'dataset_new.csv', index=False)'''\n"
      ],
      "metadata": {
        "colab": {
          "base_uri": "https://localhost:8080/",
          "height": 370
        },
        "id": "f5p8tl1qc3Ix",
        "outputId": "0b93dc74-7af6-470f-8333-70d1ddb92eb5"
      },
      "execution_count": 5,
      "outputs": [
        {
          "output_type": "error",
          "ename": "MessageError",
          "evalue": "Error: credential propagation was unsuccessful",
          "traceback": [
            "\u001b[0;31m---------------------------------------------------------------------------\u001b[0m",
            "\u001b[0;31mMessageError\u001b[0m                              Traceback (most recent call last)",
            "\u001b[0;32m<ipython-input-5-a696ffc4bb1e>\u001b[0m in \u001b[0;36m<cell line: 5>\u001b[0;34m()\u001b[0m\n\u001b[1;32m      3\u001b[0m \u001b[0;32mimport\u001b[0m \u001b[0mrandom\u001b[0m\u001b[0;34m\u001b[0m\u001b[0;34m\u001b[0m\u001b[0m\n\u001b[1;32m      4\u001b[0m \u001b[0;32mfrom\u001b[0m \u001b[0mgoogle\u001b[0m\u001b[0;34m.\u001b[0m\u001b[0mcolab\u001b[0m \u001b[0;32mimport\u001b[0m \u001b[0mdrive\u001b[0m\u001b[0;34m\u001b[0m\u001b[0;34m\u001b[0m\u001b[0m\n\u001b[0;32m----> 5\u001b[0;31m \u001b[0mdrive\u001b[0m\u001b[0;34m.\u001b[0m\u001b[0mmount\u001b[0m\u001b[0;34m(\u001b[0m\u001b[0;34m'/content/drive'\u001b[0m\u001b[0;34m)\u001b[0m\u001b[0;34m\u001b[0m\u001b[0;34m\u001b[0m\u001b[0m\n\u001b[0m\u001b[1;32m      6\u001b[0m \u001b[0;34m\u001b[0m\u001b[0m\n\u001b[1;32m      7\u001b[0m \u001b[0;32mdef\u001b[0m \u001b[0mread_csv_files\u001b[0m\u001b[0;34m(\u001b[0m\u001b[0mdirectory\u001b[0m\u001b[0;34m,\u001b[0m\u001b[0mpercent\u001b[0m\u001b[0;34m)\u001b[0m\u001b[0;34m:\u001b[0m\u001b[0;34m\u001b[0m\u001b[0;34m\u001b[0m\u001b[0m\n",
            "\u001b[0;32m/usr/local/lib/python3.10/dist-packages/google/colab/drive.py\u001b[0m in \u001b[0;36mmount\u001b[0;34m(mountpoint, force_remount, timeout_ms, readonly)\u001b[0m\n\u001b[1;32m     98\u001b[0m \u001b[0;32mdef\u001b[0m \u001b[0mmount\u001b[0m\u001b[0;34m(\u001b[0m\u001b[0mmountpoint\u001b[0m\u001b[0;34m,\u001b[0m \u001b[0mforce_remount\u001b[0m\u001b[0;34m=\u001b[0m\u001b[0;32mFalse\u001b[0m\u001b[0;34m,\u001b[0m \u001b[0mtimeout_ms\u001b[0m\u001b[0;34m=\u001b[0m\u001b[0;36m120000\u001b[0m\u001b[0;34m,\u001b[0m \u001b[0mreadonly\u001b[0m\u001b[0;34m=\u001b[0m\u001b[0;32mFalse\u001b[0m\u001b[0;34m)\u001b[0m\u001b[0;34m:\u001b[0m\u001b[0;34m\u001b[0m\u001b[0;34m\u001b[0m\u001b[0m\n\u001b[1;32m     99\u001b[0m   \u001b[0;34m\"\"\"Mount your Google Drive at the specified mountpoint path.\"\"\"\u001b[0m\u001b[0;34m\u001b[0m\u001b[0;34m\u001b[0m\u001b[0m\n\u001b[0;32m--> 100\u001b[0;31m   return _mount(\n\u001b[0m\u001b[1;32m    101\u001b[0m       \u001b[0mmountpoint\u001b[0m\u001b[0;34m,\u001b[0m\u001b[0;34m\u001b[0m\u001b[0;34m\u001b[0m\u001b[0m\n\u001b[1;32m    102\u001b[0m       \u001b[0mforce_remount\u001b[0m\u001b[0;34m=\u001b[0m\u001b[0mforce_remount\u001b[0m\u001b[0;34m,\u001b[0m\u001b[0;34m\u001b[0m\u001b[0;34m\u001b[0m\u001b[0m\n",
            "\u001b[0;32m/usr/local/lib/python3.10/dist-packages/google/colab/drive.py\u001b[0m in \u001b[0;36m_mount\u001b[0;34m(mountpoint, force_remount, timeout_ms, ephemeral, readonly)\u001b[0m\n\u001b[1;32m    131\u001b[0m   )\n\u001b[1;32m    132\u001b[0m   \u001b[0;32mif\u001b[0m \u001b[0mephemeral\u001b[0m\u001b[0;34m:\u001b[0m\u001b[0;34m\u001b[0m\u001b[0;34m\u001b[0m\u001b[0m\n\u001b[0;32m--> 133\u001b[0;31m     _message.blocking_request(\n\u001b[0m\u001b[1;32m    134\u001b[0m         \u001b[0;34m'request_auth'\u001b[0m\u001b[0;34m,\u001b[0m \u001b[0mrequest\u001b[0m\u001b[0;34m=\u001b[0m\u001b[0;34m{\u001b[0m\u001b[0;34m'authType'\u001b[0m\u001b[0;34m:\u001b[0m \u001b[0;34m'dfs_ephemeral'\u001b[0m\u001b[0;34m}\u001b[0m\u001b[0;34m,\u001b[0m \u001b[0mtimeout_sec\u001b[0m\u001b[0;34m=\u001b[0m\u001b[0;32mNone\u001b[0m\u001b[0;34m\u001b[0m\u001b[0;34m\u001b[0m\u001b[0m\n\u001b[1;32m    135\u001b[0m     )\n",
            "\u001b[0;32m/usr/local/lib/python3.10/dist-packages/google/colab/_message.py\u001b[0m in \u001b[0;36mblocking_request\u001b[0;34m(request_type, request, timeout_sec, parent)\u001b[0m\n\u001b[1;32m    174\u001b[0m       \u001b[0mrequest_type\u001b[0m\u001b[0;34m,\u001b[0m \u001b[0mrequest\u001b[0m\u001b[0;34m,\u001b[0m \u001b[0mparent\u001b[0m\u001b[0;34m=\u001b[0m\u001b[0mparent\u001b[0m\u001b[0;34m,\u001b[0m \u001b[0mexpect_reply\u001b[0m\u001b[0;34m=\u001b[0m\u001b[0;32mTrue\u001b[0m\u001b[0;34m\u001b[0m\u001b[0;34m\u001b[0m\u001b[0m\n\u001b[1;32m    175\u001b[0m   )\n\u001b[0;32m--> 176\u001b[0;31m   \u001b[0;32mreturn\u001b[0m \u001b[0mread_reply_from_input\u001b[0m\u001b[0;34m(\u001b[0m\u001b[0mrequest_id\u001b[0m\u001b[0;34m,\u001b[0m \u001b[0mtimeout_sec\u001b[0m\u001b[0;34m)\u001b[0m\u001b[0;34m\u001b[0m\u001b[0;34m\u001b[0m\u001b[0m\n\u001b[0m",
            "\u001b[0;32m/usr/local/lib/python3.10/dist-packages/google/colab/_message.py\u001b[0m in \u001b[0;36mread_reply_from_input\u001b[0;34m(message_id, timeout_sec)\u001b[0m\n\u001b[1;32m    101\u001b[0m     ):\n\u001b[1;32m    102\u001b[0m       \u001b[0;32mif\u001b[0m \u001b[0;34m'error'\u001b[0m \u001b[0;32min\u001b[0m \u001b[0mreply\u001b[0m\u001b[0;34m:\u001b[0m\u001b[0;34m\u001b[0m\u001b[0;34m\u001b[0m\u001b[0m\n\u001b[0;32m--> 103\u001b[0;31m         \u001b[0;32mraise\u001b[0m \u001b[0mMessageError\u001b[0m\u001b[0;34m(\u001b[0m\u001b[0mreply\u001b[0m\u001b[0;34m[\u001b[0m\u001b[0;34m'error'\u001b[0m\u001b[0;34m]\u001b[0m\u001b[0;34m)\u001b[0m\u001b[0;34m\u001b[0m\u001b[0;34m\u001b[0m\u001b[0m\n\u001b[0m\u001b[1;32m    104\u001b[0m       \u001b[0;32mreturn\u001b[0m \u001b[0mreply\u001b[0m\u001b[0;34m.\u001b[0m\u001b[0mget\u001b[0m\u001b[0;34m(\u001b[0m\u001b[0;34m'data'\u001b[0m\u001b[0;34m,\u001b[0m \u001b[0;32mNone\u001b[0m\u001b[0;34m)\u001b[0m\u001b[0;34m\u001b[0m\u001b[0;34m\u001b[0m\u001b[0m\n\u001b[1;32m    105\u001b[0m \u001b[0;34m\u001b[0m\u001b[0m\n",
            "\u001b[0;31mMessageError\u001b[0m: Error: credential propagation was unsuccessful"
          ]
        }
      ]
    },
    {
      "cell_type": "code",
      "source": [
        "import os\n",
        "from glob import glob\n",
        "import pandas as pd\n",
        "import numpy as np\n",
        "\n",
        "files_path = \"/content/datasets/our-dataset-min.csv\"\n",
        "#files_path = \"/content/sample_data/california_housing_test.csv\"\n",
        "pd.read_csv(files_path, encoding = \"ISO-8859-1\").head()\n"
      ],
      "metadata": {
        "colab": {
          "base_uri": "https://localhost:8080/",
          "height": 206
        },
        "id": "vzCLd9HzUiCI",
        "outputId": "a13522a2-32a9-4a89-cd17-a56a57572c39"
      },
      "execution_count": 24,
      "outputs": [
        {
          "output_type": "execute_result",
          "data": {
            "text/plain": [
              "      sentence  attack_type_code    attack_type http_method   param_as  \\\n",
              "0        -3752                 1  SQL Injection        POST  body (Q.)   \n",
              "1  12:00:00 AM                 0      No Attack        POST  body (Q.)   \n",
              "2            0                 0      No Attack        POST  body (Q.)   \n",
              "3          21%                 1  SQL Injection        POST  body (Q.)   \n",
              "4          26%                 1  SQL Injection        POST  body (Q.)   \n",
              "\n",
              "   flag_success_attack  http_status  param_length  \n",
              "0                    0        201.0            18  \n",
              "1                    0        201.0            14  \n",
              "2                    0        201.0            14  \n",
              "3                    0        201.0            17  \n",
              "4                    0        201.0            17  "
            ],
            "text/html": [
              "\n",
              "  <div id=\"df-d0bc2486-1a9a-4578-b5c6-3a3b3d08b630\" class=\"colab-df-container\">\n",
              "    <div>\n",
              "<style scoped>\n",
              "    .dataframe tbody tr th:only-of-type {\n",
              "        vertical-align: middle;\n",
              "    }\n",
              "\n",
              "    .dataframe tbody tr th {\n",
              "        vertical-align: top;\n",
              "    }\n",
              "\n",
              "    .dataframe thead th {\n",
              "        text-align: right;\n",
              "    }\n",
              "</style>\n",
              "<table border=\"1\" class=\"dataframe\">\n",
              "  <thead>\n",
              "    <tr style=\"text-align: right;\">\n",
              "      <th></th>\n",
              "      <th>sentence</th>\n",
              "      <th>attack_type_code</th>\n",
              "      <th>attack_type</th>\n",
              "      <th>http_method</th>\n",
              "      <th>param_as</th>\n",
              "      <th>flag_success_attack</th>\n",
              "      <th>http_status</th>\n",
              "      <th>param_length</th>\n",
              "    </tr>\n",
              "  </thead>\n",
              "  <tbody>\n",
              "    <tr>\n",
              "      <th>0</th>\n",
              "      <td>-3752</td>\n",
              "      <td>1</td>\n",
              "      <td>SQL Injection</td>\n",
              "      <td>POST</td>\n",
              "      <td>body (Q.)</td>\n",
              "      <td>0</td>\n",
              "      <td>201.0</td>\n",
              "      <td>18</td>\n",
              "    </tr>\n",
              "    <tr>\n",
              "      <th>1</th>\n",
              "      <td>12:00:00 AM</td>\n",
              "      <td>0</td>\n",
              "      <td>No Attack</td>\n",
              "      <td>POST</td>\n",
              "      <td>body (Q.)</td>\n",
              "      <td>0</td>\n",
              "      <td>201.0</td>\n",
              "      <td>14</td>\n",
              "    </tr>\n",
              "    <tr>\n",
              "      <th>2</th>\n",
              "      <td>0</td>\n",
              "      <td>0</td>\n",
              "      <td>No Attack</td>\n",
              "      <td>POST</td>\n",
              "      <td>body (Q.)</td>\n",
              "      <td>0</td>\n",
              "      <td>201.0</td>\n",
              "      <td>14</td>\n",
              "    </tr>\n",
              "    <tr>\n",
              "      <th>3</th>\n",
              "      <td>21%</td>\n",
              "      <td>1</td>\n",
              "      <td>SQL Injection</td>\n",
              "      <td>POST</td>\n",
              "      <td>body (Q.)</td>\n",
              "      <td>0</td>\n",
              "      <td>201.0</td>\n",
              "      <td>17</td>\n",
              "    </tr>\n",
              "    <tr>\n",
              "      <th>4</th>\n",
              "      <td>26%</td>\n",
              "      <td>1</td>\n",
              "      <td>SQL Injection</td>\n",
              "      <td>POST</td>\n",
              "      <td>body (Q.)</td>\n",
              "      <td>0</td>\n",
              "      <td>201.0</td>\n",
              "      <td>17</td>\n",
              "    </tr>\n",
              "  </tbody>\n",
              "</table>\n",
              "</div>\n",
              "    <div class=\"colab-df-buttons\">\n",
              "\n",
              "  <div class=\"colab-df-container\">\n",
              "    <button class=\"colab-df-convert\" onclick=\"convertToInteractive('df-d0bc2486-1a9a-4578-b5c6-3a3b3d08b630')\"\n",
              "            title=\"Convert this dataframe to an interactive table.\"\n",
              "            style=\"display:none;\">\n",
              "\n",
              "  <svg xmlns=\"http://www.w3.org/2000/svg\" height=\"24px\" viewBox=\"0 -960 960 960\">\n",
              "    <path d=\"M120-120v-720h720v720H120Zm60-500h600v-160H180v160Zm220 220h160v-160H400v160Zm0 220h160v-160H400v160ZM180-400h160v-160H180v160Zm440 0h160v-160H620v160ZM180-180h160v-160H180v160Zm440 0h160v-160H620v160Z\"/>\n",
              "  </svg>\n",
              "    </button>\n",
              "\n",
              "  <style>\n",
              "    .colab-df-container {\n",
              "      display:flex;\n",
              "      gap: 12px;\n",
              "    }\n",
              "\n",
              "    .colab-df-convert {\n",
              "      background-color: #E8F0FE;\n",
              "      border: none;\n",
              "      border-radius: 50%;\n",
              "      cursor: pointer;\n",
              "      display: none;\n",
              "      fill: #1967D2;\n",
              "      height: 32px;\n",
              "      padding: 0 0 0 0;\n",
              "      width: 32px;\n",
              "    }\n",
              "\n",
              "    .colab-df-convert:hover {\n",
              "      background-color: #E2EBFA;\n",
              "      box-shadow: 0px 1px 2px rgba(60, 64, 67, 0.3), 0px 1px 3px 1px rgba(60, 64, 67, 0.15);\n",
              "      fill: #174EA6;\n",
              "    }\n",
              "\n",
              "    .colab-df-buttons div {\n",
              "      margin-bottom: 4px;\n",
              "    }\n",
              "\n",
              "    [theme=dark] .colab-df-convert {\n",
              "      background-color: #3B4455;\n",
              "      fill: #D2E3FC;\n",
              "    }\n",
              "\n",
              "    [theme=dark] .colab-df-convert:hover {\n",
              "      background-color: #434B5C;\n",
              "      box-shadow: 0px 1px 3px 1px rgba(0, 0, 0, 0.15);\n",
              "      filter: drop-shadow(0px 1px 2px rgba(0, 0, 0, 0.3));\n",
              "      fill: #FFFFFF;\n",
              "    }\n",
              "  </style>\n",
              "\n",
              "    <script>\n",
              "      const buttonEl =\n",
              "        document.querySelector('#df-d0bc2486-1a9a-4578-b5c6-3a3b3d08b630 button.colab-df-convert');\n",
              "      buttonEl.style.display =\n",
              "        google.colab.kernel.accessAllowed ? 'block' : 'none';\n",
              "\n",
              "      async function convertToInteractive(key) {\n",
              "        const element = document.querySelector('#df-d0bc2486-1a9a-4578-b5c6-3a3b3d08b630');\n",
              "        const dataTable =\n",
              "          await google.colab.kernel.invokeFunction('convertToInteractive',\n",
              "                                                    [key], {});\n",
              "        if (!dataTable) return;\n",
              "\n",
              "        const docLinkHtml = 'Like what you see? Visit the ' +\n",
              "          '<a target=\"_blank\" href=https://colab.research.google.com/notebooks/data_table.ipynb>data table notebook</a>'\n",
              "          + ' to learn more about interactive tables.';\n",
              "        element.innerHTML = '';\n",
              "        dataTable['output_type'] = 'display_data';\n",
              "        await google.colab.output.renderOutput(dataTable, element);\n",
              "        const docLink = document.createElement('div');\n",
              "        docLink.innerHTML = docLinkHtml;\n",
              "        element.appendChild(docLink);\n",
              "      }\n",
              "    </script>\n",
              "  </div>\n",
              "\n",
              "\n",
              "<div id=\"df-0d18dc37-e8a5-4561-803d-39ea49c20c3b\">\n",
              "  <button class=\"colab-df-quickchart\" onclick=\"quickchart('df-0d18dc37-e8a5-4561-803d-39ea49c20c3b')\"\n",
              "            title=\"Suggest charts\"\n",
              "            style=\"display:none;\">\n",
              "\n",
              "<svg xmlns=\"http://www.w3.org/2000/svg\" height=\"24px\"viewBox=\"0 0 24 24\"\n",
              "     width=\"24px\">\n",
              "    <g>\n",
              "        <path d=\"M19 3H5c-1.1 0-2 .9-2 2v14c0 1.1.9 2 2 2h14c1.1 0 2-.9 2-2V5c0-1.1-.9-2-2-2zM9 17H7v-7h2v7zm4 0h-2V7h2v10zm4 0h-2v-4h2v4z\"/>\n",
              "    </g>\n",
              "</svg>\n",
              "  </button>\n",
              "\n",
              "<style>\n",
              "  .colab-df-quickchart {\n",
              "      --bg-color: #E8F0FE;\n",
              "      --fill-color: #1967D2;\n",
              "      --hover-bg-color: #E2EBFA;\n",
              "      --hover-fill-color: #174EA6;\n",
              "      --disabled-fill-color: #AAA;\n",
              "      --disabled-bg-color: #DDD;\n",
              "  }\n",
              "\n",
              "  [theme=dark] .colab-df-quickchart {\n",
              "      --bg-color: #3B4455;\n",
              "      --fill-color: #D2E3FC;\n",
              "      --hover-bg-color: #434B5C;\n",
              "      --hover-fill-color: #FFFFFF;\n",
              "      --disabled-bg-color: #3B4455;\n",
              "      --disabled-fill-color: #666;\n",
              "  }\n",
              "\n",
              "  .colab-df-quickchart {\n",
              "    background-color: var(--bg-color);\n",
              "    border: none;\n",
              "    border-radius: 50%;\n",
              "    cursor: pointer;\n",
              "    display: none;\n",
              "    fill: var(--fill-color);\n",
              "    height: 32px;\n",
              "    padding: 0;\n",
              "    width: 32px;\n",
              "  }\n",
              "\n",
              "  .colab-df-quickchart:hover {\n",
              "    background-color: var(--hover-bg-color);\n",
              "    box-shadow: 0 1px 2px rgba(60, 64, 67, 0.3), 0 1px 3px 1px rgba(60, 64, 67, 0.15);\n",
              "    fill: var(--button-hover-fill-color);\n",
              "  }\n",
              "\n",
              "  .colab-df-quickchart-complete:disabled,\n",
              "  .colab-df-quickchart-complete:disabled:hover {\n",
              "    background-color: var(--disabled-bg-color);\n",
              "    fill: var(--disabled-fill-color);\n",
              "    box-shadow: none;\n",
              "  }\n",
              "\n",
              "  .colab-df-spinner {\n",
              "    border: 2px solid var(--fill-color);\n",
              "    border-color: transparent;\n",
              "    border-bottom-color: var(--fill-color);\n",
              "    animation:\n",
              "      spin 1s steps(1) infinite;\n",
              "  }\n",
              "\n",
              "  @keyframes spin {\n",
              "    0% {\n",
              "      border-color: transparent;\n",
              "      border-bottom-color: var(--fill-color);\n",
              "      border-left-color: var(--fill-color);\n",
              "    }\n",
              "    20% {\n",
              "      border-color: transparent;\n",
              "      border-left-color: var(--fill-color);\n",
              "      border-top-color: var(--fill-color);\n",
              "    }\n",
              "    30% {\n",
              "      border-color: transparent;\n",
              "      border-left-color: var(--fill-color);\n",
              "      border-top-color: var(--fill-color);\n",
              "      border-right-color: var(--fill-color);\n",
              "    }\n",
              "    40% {\n",
              "      border-color: transparent;\n",
              "      border-right-color: var(--fill-color);\n",
              "      border-top-color: var(--fill-color);\n",
              "    }\n",
              "    60% {\n",
              "      border-color: transparent;\n",
              "      border-right-color: var(--fill-color);\n",
              "    }\n",
              "    80% {\n",
              "      border-color: transparent;\n",
              "      border-right-color: var(--fill-color);\n",
              "      border-bottom-color: var(--fill-color);\n",
              "    }\n",
              "    90% {\n",
              "      border-color: transparent;\n",
              "      border-bottom-color: var(--fill-color);\n",
              "    }\n",
              "  }\n",
              "</style>\n",
              "\n",
              "  <script>\n",
              "    async function quickchart(key) {\n",
              "      const quickchartButtonEl =\n",
              "        document.querySelector('#' + key + ' button');\n",
              "      quickchartButtonEl.disabled = true;  // To prevent multiple clicks.\n",
              "      quickchartButtonEl.classList.add('colab-df-spinner');\n",
              "      try {\n",
              "        const charts = await google.colab.kernel.invokeFunction(\n",
              "            'suggestCharts', [key], {});\n",
              "      } catch (error) {\n",
              "        console.error('Error during call to suggestCharts:', error);\n",
              "      }\n",
              "      quickchartButtonEl.classList.remove('colab-df-spinner');\n",
              "      quickchartButtonEl.classList.add('colab-df-quickchart-complete');\n",
              "    }\n",
              "    (() => {\n",
              "      let quickchartButtonEl =\n",
              "        document.querySelector('#df-0d18dc37-e8a5-4561-803d-39ea49c20c3b button');\n",
              "      quickchartButtonEl.style.display =\n",
              "        google.colab.kernel.accessAllowed ? 'block' : 'none';\n",
              "    })();\n",
              "  </script>\n",
              "</div>\n",
              "\n",
              "    </div>\n",
              "  </div>\n"
            ],
            "application/vnd.google.colaboratory.intrinsic+json": {
              "type": "dataframe",
              "summary": "{\n  \"name\": \"pd\",\n  \"rows\": 5,\n  \"fields\": [\n    {\n      \"column\": \"sentence\",\n      \"properties\": {\n        \"dtype\": \"string\",\n        \"num_unique_values\": 5,\n        \"samples\": [\n          \"12:00:00 AM\",\n          \"26%\",\n          \"0\"\n        ],\n        \"semantic_type\": \"\",\n        \"description\": \"\"\n      }\n    },\n    {\n      \"column\": \"attack_type_code\",\n      \"properties\": {\n        \"dtype\": \"number\",\n        \"std\": 0,\n        \"min\": 0,\n        \"max\": 1,\n        \"num_unique_values\": 2,\n        \"samples\": [\n          0,\n          1\n        ],\n        \"semantic_type\": \"\",\n        \"description\": \"\"\n      }\n    },\n    {\n      \"column\": \"attack_type\",\n      \"properties\": {\n        \"dtype\": \"category\",\n        \"num_unique_values\": 2,\n        \"samples\": [\n          \"No Attack\",\n          \"SQL Injection\"\n        ],\n        \"semantic_type\": \"\",\n        \"description\": \"\"\n      }\n    },\n    {\n      \"column\": \"http_method\",\n      \"properties\": {\n        \"dtype\": \"category\",\n        \"num_unique_values\": 1,\n        \"samples\": [\n          \"POST\"\n        ],\n        \"semantic_type\": \"\",\n        \"description\": \"\"\n      }\n    },\n    {\n      \"column\": \"param_as\",\n      \"properties\": {\n        \"dtype\": \"category\",\n        \"num_unique_values\": 1,\n        \"samples\": [\n          \"body (Q.)\"\n        ],\n        \"semantic_type\": \"\",\n        \"description\": \"\"\n      }\n    },\n    {\n      \"column\": \"flag_success_attack\",\n      \"properties\": {\n        \"dtype\": \"number\",\n        \"std\": 0,\n        \"min\": 0,\n        \"max\": 0,\n        \"num_unique_values\": 1,\n        \"samples\": [\n          0\n        ],\n        \"semantic_type\": \"\",\n        \"description\": \"\"\n      }\n    },\n    {\n      \"column\": \"http_status\",\n      \"properties\": {\n        \"dtype\": \"number\",\n        \"std\": 0.0,\n        \"min\": 201.0,\n        \"max\": 201.0,\n        \"num_unique_values\": 1,\n        \"samples\": [\n          201.0\n        ],\n        \"semantic_type\": \"\",\n        \"description\": \"\"\n      }\n    },\n    {\n      \"column\": \"param_length\",\n      \"properties\": {\n        \"dtype\": \"number\",\n        \"std\": 1,\n        \"min\": 14,\n        \"max\": 18,\n        \"num_unique_values\": 3,\n        \"samples\": [\n          18\n        ],\n        \"semantic_type\": \"\",\n        \"description\": \"\"\n      }\n    }\n  ]\n}"
            }
          },
          "metadata": {},
          "execution_count": 24
        }
      ]
    },
    {
      "cell_type": "code",
      "source": [
        "import os\n",
        "import pandas as pd\n",
        "import numpy as np\n",
        "\n",
        "#files_path = \"/content/datasets/our-dataset-min.csv\"\n",
        "#pd.read_csv(files_path, encoding = \"ISO-8859-1\").head()\n",
        "#files_path = \"/content/sample_data/california_housing_test.csv\"\n",
        "directory = \"/content/datasets\"   #files_path\n",
        "percent = 100\n",
        "\n",
        "files = [f for f in os.listdir(directory) if f.endswith('.csv')]\n",
        "\n",
        "np_array_values = []\n",
        "data_df = pd.DataFrame()\n",
        "#firstFile = True\n",
        "for file in files:\n",
        "  file_path = os.path.join(directory, file)\n",
        "  print('File Path: ', file_path)\n",
        "  df = pd.read_csv(file_path, encoding = \"ISO-8859-1\")  #.head()   #,low_memory=False\n",
        "  total_rows = len(df)\n",
        "  print('Total rows in df/file: ', total_rows)\n",
        "  num_rows = int(total_rows * (percent / 100))\n",
        "  print('Total rows in df/file: ', num_rows)\n",
        "  np_array_values.append(df)\n",
        "  #print('np_array_values: ' , np_array_values)\n",
        "  merge_values = np.vstack(np_array_values)\n",
        "  #new_data = pd.DataFrame(merge_values)\n",
        "  new_data = pd.DataFrame(merge_values , columns=['sentence','attack_type_code', 'attack_type', 'http_method', 'param_as', 'flag_success_attack', 'http_status', 'param_length'])\n",
        "  #new_data.colums=['sentence','attack_type_code', 'attack_type', 'http_method', 'param_as', 'flag_success_attack', 'http_status', 'param_length']\n",
        "  print('new_data: ' , new_data)"
      ],
      "metadata": {
        "colab": {
          "base_uri": "https://localhost:8080/"
        },
        "id": "o8HPboQdnc_Z",
        "outputId": "22cae402-15cc-4e0c-b9f9-05f0d8314a3d"
      },
      "execution_count": 47,
      "outputs": [
        {
          "output_type": "stream",
          "name": "stdout",
          "text": [
            "File Path:  /content/datasets/our-dataset-min.csv\n",
            "Total rows in df/file:  73974\n",
            "Total rows in df/file:  73974\n",
            "new_data:                                                  sentence attack_type_code  \\\n",
            "0                                                  -3752                1   \n",
            "1                                            12:00:00 AM                0   \n",
            "2                                                      0                0   \n",
            "3                                                    21%                1   \n",
            "4                                                    26%                1   \n",
            "...                                                  ...              ...   \n",
            "73969     +if(benchmark(3000000,MD5(1)),NULL,NULL))%20--                1   \n",
            "73970    +if(benchmark(3000000,MD5(1)),NULL,NULL))%20%23                1   \n",
            "73971  \"+if(benchmark(3000000,MD5(1)),NULL,NULL),NULL...                1   \n",
            "73972  \"+if(benchmark(3000000,MD5(1)),NULL,NULL),NULL...                1   \n",
            "73973  +if(benchmark(3000000,MD5(1)),NULL,NULL),NULL,...                1   \n",
            "\n",
            "         attack_type http_method   param_as flag_success_attack http_status  \\\n",
            "0      SQL Injection        POST  body (Q.)                   0       201.0   \n",
            "1          No Attack        POST  body (Q.)                   0       201.0   \n",
            "2          No Attack        POST  body (Q.)                   0       201.0   \n",
            "3      SQL Injection        POST  body (Q.)                   0       201.0   \n",
            "4      SQL Injection        POST  body (Q.)                   0       201.0   \n",
            "...              ...         ...        ...                 ...         ...   \n",
            "73969  SQL Injection         GET        URL                   0       404.0   \n",
            "73970  SQL Injection         GET        URL                   0       404.0   \n",
            "73971  SQL Injection         GET        URL                   0       404.0   \n",
            "73972  SQL Injection         GET        URL                   0       404.0   \n",
            "73973  SQL Injection         GET        URL                   0       404.0   \n",
            "\n",
            "      param_length  \n",
            "0               18  \n",
            "1               14  \n",
            "2               14  \n",
            "3               17  \n",
            "4               17  \n",
            "...            ...  \n",
            "73969           59  \n",
            "73970           60  \n",
            "73971          106  \n",
            "73972          100  \n",
            "73973           94  \n",
            "\n",
            "[73974 rows x 8 columns]\n"
          ]
        }
      ]
    },
    {
      "cell_type": "markdown",
      "source": [
        "# ***test simple GAN img.***\n",
        "[From youtube codeing](https://www.youtube.com/watch?v=ti_PCvND4gM&ab_channel=NachiketaHebbar)"
      ],
      "metadata": {
        "id": "4-jLWHrQ4Vr9"
      }
    },
    {
      "cell_type": "markdown",
      "source": [
        "##Import Libraries"
      ],
      "metadata": {
        "id": "mXZXHTUtEJcG"
      }
    },
    {
      "cell_type": "code",
      "source": [
        "import tensorflow as tf\n",
        "import glob\n",
        "import imageio\n",
        "import matplotlib.pyplot as plt\n",
        "import os\n",
        "import numpy as np\n",
        "import PIL\n",
        "from tensorflow.keras import layers\n",
        "import time\n",
        "from tqdm import tqdm\n",
        "from IPython import display"
      ],
      "metadata": {
        "id": "GTB2dRZ2EhB3"
      },
      "execution_count": 1,
      "outputs": []
    },
    {
      "cell_type": "markdown",
      "source": [
        "## Import and Pre-Processing Datasets"
      ],
      "metadata": {
        "id": "ZrNZ-VE_ESyx"
      }
    },
    {
      "cell_type": "code",
      "source": [
        "# Load mnist Dataset\n",
        "(train_images, train_labels), (_,_) = tf.keras.datasets.mnist.load_data()\n",
        "\n",
        "#resize image\n",
        "train_images = train_images.reshape(train_images.shape[0], 28, 28 , 1).astype('float32')\n",
        "#normalize the image to[ -1, 1]\n",
        "train_images = (train_images -127.5)/127.5\n",
        "\n",
        "len(train_images)\t\t# length of our dataset\n",
        "\n",
        "BUFFER_SIZE = 60000\t\t# should be >= len(train_images)\n",
        "BATCH_SIZE = 256\t\t# traing the datasets on 256 imgs at a time\n",
        "\n",
        "## Batch & shuffle the data\n",
        "train_dataset = tf.data.Dataset.from_tensor_slices(train_images)\n",
        "# create a random Datasets\n",
        "train_dataset = train_dataset.shuffle(BUFFER_SIZE)\n",
        "train_dataset = train_dataset.batch(BATCH_SIZE)"
      ],
      "metadata": {
        "id": "Jo2ZEDP5E-_J"
      },
      "execution_count": 3,
      "outputs": []
    },
    {
      "cell_type": "markdown",
      "source": [
        "## Build Genetartor Model"
      ],
      "metadata": {
        "id": "vknPwmSbI7aa"
      }
    },
    {
      "cell_type": "code",
      "source": [
        "def make_generator_model():\n",
        "  # All the layers will be added one after the other sequence\n",
        "\tmodel = tf.keras.Sequential()\n",
        "\n",
        "\t#Layer 1\n",
        "\t# 100 : (input shape) 100 points from random normal distribution & use it to create an original image\n",
        "\tmodel.add(layers.Dense(7*7*256, use_bias=False, input_shape=(100,)))\n",
        "\tmodel.add(layers.BatchNormalization())\n",
        "\t# we use LeakyReLU, because it mentioned in paper gan and it leaky value dose better for the generator model\n",
        "\tmodel.add(layers.LeakyReLU())\n",
        "\n",
        "\t# 7 cross, 7 rows, 256 columns\n",
        "\tmodel.add(layers.Reshape(7, 7, 256))\n",
        "\t# to check if the output a shape at each layer is what we actually desired\n",
        "\tassert model.output_shape == (None, 7, 7, 256)\t# None : is a Batch size\n",
        "\n",
        "\t# we using the convolutional transpose layers (Conv2DTranspose),\n",
        "\t# because th traditional convolution they are down sample the image, but instead in this case we have to take the noise & up sample it to create original image\n",
        "\tmodel.add( layers.Conv2DTranspose(128, (5, 5), strides=(1,1), padding='same', use_bias=False) )\n",
        "\tassert model.output_shape == (None, 7, 7, 128)\n",
        "\tmodel.add(layers.BatchNormalization())\n",
        "\tmodel.add(layers.LeakyReLU())\n",
        "\n",
        "\tmodel.add( layers.Conv2DTranspose(64, (5, 5), strides=(2,2), padding='same', use_bias=False) )\n",
        "\tassert model.output_shape == (None, 14, 14, 64)\n",
        "\tmodel.add(layers.BatchNormalization())\n",
        "\tmodel.add(layers.LeakyReLU())\n",
        "\n",
        "\t#activation: used becausewe give an output between -1 & 1\n",
        "\t# don't use sigment function over here, because we need image to be a range of -1 and 1\n",
        "\tmodel.add( layers.Conv2DTranspose(1, (5, 5), strides=(2,2), padding='same', use_bias=False, activation='tanh' ) )\n",
        "\tassert model.output_shape == (None, 28, 28, 1)\n",
        "\n",
        "\treturn model\n",
        "\n",
        "\n",
        "\n",
        "generator = make_generator_model()\n",
        "\n",
        "noise = tf.random.normal([1, 100])\n",
        "generated_image = generator(noise, training=False)\n",
        "\n",
        "plt.imshow(generated_image[0, :, :, 0], cmap='grey')"
      ],
      "metadata": {
        "colab": {
          "base_uri": "https://localhost:8080/",
          "height": 346
        },
        "id": "V1JRV4zIJPrw",
        "outputId": "6b5b7838-9d05-4aa4-b45c-93882e16787a"
      },
      "execution_count": 9,
      "outputs": [
        {
          "output_type": "error",
          "ename": "TypeError",
          "evalue": "Reshape.__init__() takes 2 positional arguments but 4 were given",
          "traceback": [
            "\u001b[0;31m---------------------------------------------------------------------------\u001b[0m",
            "\u001b[0;31mTypeError\u001b[0m                                 Traceback (most recent call last)",
            "\u001b[0;32m<ipython-input-9-f96e26973708>\u001b[0m in \u001b[0;36m<cell line: 38>\u001b[0;34m()\u001b[0m\n\u001b[1;32m     36\u001b[0m \u001b[0;34m\u001b[0m\u001b[0m\n\u001b[1;32m     37\u001b[0m \u001b[0;34m\u001b[0m\u001b[0m\n\u001b[0;32m---> 38\u001b[0;31m \u001b[0mgenerator\u001b[0m \u001b[0;34m=\u001b[0m \u001b[0mmake_generator_model\u001b[0m\u001b[0;34m(\u001b[0m\u001b[0;34m)\u001b[0m\u001b[0;34m\u001b[0m\u001b[0;34m\u001b[0m\u001b[0m\n\u001b[0m\u001b[1;32m     39\u001b[0m \u001b[0;34m\u001b[0m\u001b[0m\n\u001b[1;32m     40\u001b[0m \u001b[0mnoise\u001b[0m \u001b[0;34m=\u001b[0m \u001b[0mtf\u001b[0m\u001b[0;34m.\u001b[0m\u001b[0mrandom\u001b[0m\u001b[0;34m.\u001b[0m\u001b[0mnormal\u001b[0m\u001b[0;34m(\u001b[0m\u001b[0;34m[\u001b[0m\u001b[0;36m1\u001b[0m\u001b[0;34m,\u001b[0m \u001b[0;36m100\u001b[0m\u001b[0;34m]\u001b[0m\u001b[0;34m)\u001b[0m\u001b[0;34m\u001b[0m\u001b[0;34m\u001b[0m\u001b[0m\n",
            "\u001b[0;32m<ipython-input-9-f96e26973708>\u001b[0m in \u001b[0;36mmake_generator_model\u001b[0;34m()\u001b[0m\n\u001b[1;32m     11\u001b[0m \u001b[0;34m\u001b[0m\u001b[0m\n\u001b[1;32m     12\u001b[0m         \u001b[0;31m# 7 cross, 7 rows, 256 columns\u001b[0m\u001b[0;34m\u001b[0m\u001b[0;34m\u001b[0m\u001b[0m\n\u001b[0;32m---> 13\u001b[0;31m         \u001b[0mmodel\u001b[0m\u001b[0;34m.\u001b[0m\u001b[0madd\u001b[0m\u001b[0;34m(\u001b[0m\u001b[0mlayers\u001b[0m\u001b[0;34m.\u001b[0m\u001b[0mReshape\u001b[0m\u001b[0;34m(\u001b[0m\u001b[0;36m7\u001b[0m\u001b[0;34m,\u001b[0m \u001b[0;36m7\u001b[0m\u001b[0;34m,\u001b[0m \u001b[0;36m256\u001b[0m\u001b[0;34m)\u001b[0m\u001b[0;34m)\u001b[0m\u001b[0;34m\u001b[0m\u001b[0;34m\u001b[0m\u001b[0m\n\u001b[0m\u001b[1;32m     14\u001b[0m         \u001b[0;31m# to check if the output a shape at each layer is what we actually desired\u001b[0m\u001b[0;34m\u001b[0m\u001b[0;34m\u001b[0m\u001b[0m\n\u001b[1;32m     15\u001b[0m         \u001b[0;32massert\u001b[0m \u001b[0mmodel\u001b[0m\u001b[0;34m.\u001b[0m\u001b[0moutput_shape\u001b[0m \u001b[0;34m==\u001b[0m \u001b[0;34m(\u001b[0m\u001b[0;32mNone\u001b[0m\u001b[0;34m,\u001b[0m \u001b[0;36m7\u001b[0m\u001b[0;34m,\u001b[0m \u001b[0;36m7\u001b[0m\u001b[0;34m,\u001b[0m \u001b[0;36m256\u001b[0m\u001b[0;34m)\u001b[0m  \u001b[0;31m# None : is a Batch size\u001b[0m\u001b[0;34m\u001b[0m\u001b[0;34m\u001b[0m\u001b[0m\n",
            "\u001b[0;31mTypeError\u001b[0m: Reshape.__init__() takes 2 positional arguments but 4 were given"
          ]
        }
      ]
    },
    {
      "cell_type": "code",
      "source": [
        "generator = make_generator_model()\n",
        "\n",
        "noise = tf.random.normal([1, 100])\n",
        "generated_image = generator(noise, training=False)\n",
        "\n",
        "plt.imshow(generated_image[0, :, :, 0], cmap='grey')"
      ],
      "metadata": {
        "colab": {
          "base_uri": "https://localhost:8080/",
          "height": 346
        },
        "id": "xS2ucWZ3P_t4",
        "outputId": "12c58287-4c00-4df1-8fb1-e8e69cc78433"
      },
      "execution_count": 7,
      "outputs": [
        {
          "output_type": "error",
          "ename": "TypeError",
          "evalue": "Reshape.__init__() takes 2 positional arguments but 4 were given",
          "traceback": [
            "\u001b[0;31m---------------------------------------------------------------------------\u001b[0m",
            "\u001b[0;31mTypeError\u001b[0m                                 Traceback (most recent call last)",
            "\u001b[0;32m<ipython-input-7-fbc7ce9bc3c4>\u001b[0m in \u001b[0;36m<cell line: 1>\u001b[0;34m()\u001b[0m\n\u001b[0;32m----> 1\u001b[0;31m \u001b[0mgenerator\u001b[0m \u001b[0;34m=\u001b[0m \u001b[0mmake_generator_model\u001b[0m\u001b[0;34m(\u001b[0m\u001b[0;34m)\u001b[0m\u001b[0;34m\u001b[0m\u001b[0;34m\u001b[0m\u001b[0m\n\u001b[0m\u001b[1;32m      2\u001b[0m \u001b[0;34m\u001b[0m\u001b[0m\n\u001b[1;32m      3\u001b[0m \u001b[0mnoise\u001b[0m \u001b[0;34m=\u001b[0m \u001b[0mtf\u001b[0m\u001b[0;34m.\u001b[0m\u001b[0mrandom\u001b[0m\u001b[0;34m.\u001b[0m\u001b[0mnormal\u001b[0m\u001b[0;34m(\u001b[0m\u001b[0;34m[\u001b[0m\u001b[0;36m1\u001b[0m\u001b[0;34m,\u001b[0m \u001b[0;36m100\u001b[0m\u001b[0;34m]\u001b[0m\u001b[0;34m)\u001b[0m\u001b[0;34m\u001b[0m\u001b[0;34m\u001b[0m\u001b[0m\n\u001b[1;32m      4\u001b[0m \u001b[0mgenerated_image\u001b[0m \u001b[0;34m=\u001b[0m \u001b[0mgenerator\u001b[0m\u001b[0;34m(\u001b[0m\u001b[0mnoise\u001b[0m\u001b[0;34m,\u001b[0m \u001b[0mtraining\u001b[0m\u001b[0;34m=\u001b[0m\u001b[0;32mFalse\u001b[0m\u001b[0;34m)\u001b[0m\u001b[0;34m\u001b[0m\u001b[0;34m\u001b[0m\u001b[0m\n\u001b[1;32m      5\u001b[0m \u001b[0;34m\u001b[0m\u001b[0m\n",
            "\u001b[0;32m<ipython-input-6-832469f88d75>\u001b[0m in \u001b[0;36mmake_generator_model\u001b[0;34m()\u001b[0m\n\u001b[1;32m     11\u001b[0m \u001b[0;34m\u001b[0m\u001b[0m\n\u001b[1;32m     12\u001b[0m         \u001b[0;31m# 7 cross, 7 rows, 256 columns\u001b[0m\u001b[0;34m\u001b[0m\u001b[0;34m\u001b[0m\u001b[0m\n\u001b[0;32m---> 13\u001b[0;31m         \u001b[0mmodel\u001b[0m\u001b[0;34m.\u001b[0m\u001b[0madd\u001b[0m\u001b[0;34m(\u001b[0m\u001b[0mlayers\u001b[0m\u001b[0;34m.\u001b[0m\u001b[0mReshape\u001b[0m\u001b[0;34m(\u001b[0m\u001b[0;36m7\u001b[0m\u001b[0;34m,\u001b[0m \u001b[0;36m7\u001b[0m\u001b[0;34m,\u001b[0m \u001b[0;36m256\u001b[0m\u001b[0;34m)\u001b[0m\u001b[0;34m)\u001b[0m\u001b[0;34m\u001b[0m\u001b[0;34m\u001b[0m\u001b[0m\n\u001b[0m\u001b[1;32m     14\u001b[0m         \u001b[0;31m# to check if the output a shape at each layer is what we actually desired\u001b[0m\u001b[0;34m\u001b[0m\u001b[0;34m\u001b[0m\u001b[0m\n\u001b[1;32m     15\u001b[0m         \u001b[0;32massert\u001b[0m \u001b[0mmodel\u001b[0m\u001b[0;34m.\u001b[0m\u001b[0moutput_shape\u001b[0m \u001b[0;34m==\u001b[0m \u001b[0;34m(\u001b[0m\u001b[0;32mNone\u001b[0m\u001b[0;34m,\u001b[0m \u001b[0;36m7\u001b[0m\u001b[0;34m,\u001b[0m \u001b[0;36m7\u001b[0m\u001b[0;34m,\u001b[0m \u001b[0;36m256\u001b[0m\u001b[0;34m)\u001b[0m  \u001b[0;31m# None : is a Batch size\u001b[0m\u001b[0;34m\u001b[0m\u001b[0;34m\u001b[0m\u001b[0m\n",
            "\u001b[0;31mTypeError\u001b[0m: Reshape.__init__() takes 2 positional arguments but 4 were given"
          ]
        }
      ]
    },
    {
      "cell_type": "markdown",
      "source": [
        "# **Decode Payload**"
      ],
      "metadata": {
        "id": "eML3WRRVkW9v"
      }
    },
    {
      "cell_type": "markdown",
      "source": [
        "## **Base64 Encode - Decode**"
      ],
      "metadata": {
        "id": "ZJGurxsfR6pH"
      }
    },
    {
      "cell_type": "code",
      "source": [
        "import base64\n",
        "\n",
        "def base64_encode(sample_string):\n",
        "  sample_string_bytes = sample_string.encode(\"ascii\")\n",
        "\n",
        "  base64_bytes = base64.b64encode(sample_string_bytes)\n",
        "  base64_string = base64_bytes.decode(\"ascii\")\n",
        "\n",
        "  return base64_string\n",
        "\n",
        "def base64_decode(base64_string):\n",
        "  base64_bytes = base64_string.encode(\"ascii\")\n",
        "\n",
        "  sample_string_bytes = base64.b64decode(base64_bytes)\n",
        "  sample_string1 = sample_string_bytes.decode(\"ascii\")\n",
        "\n",
        "  return sample_string1\n",
        "\n",
        "\n",
        "sample_string2 = \"SELECT * FROM users WHERE username='john';\"\n",
        "sample_b64encode = base64_encode(sample_string2)\n",
        "print(f\"Encoded (base64) string: {sample_b64encode}\")\n",
        "\n",
        "base64_string =\"U0VMRUNUICogRlJPTSB1c2VycyBXSEVSRSB1c2VybmFtZT0nam9obic7==\"\n",
        "sample_b64decode = base64_decode(base64_string)\n",
        "print(f\"Decoded (base64) string: {sample_b64decode}\")\n"
      ],
      "metadata": {
        "colab": {
          "base_uri": "https://localhost:8080/"
        },
        "id": "RP22Rc73GDTM",
        "outputId": "ef8ca7fd-8e01-40d7-88a9-47edf3e6b099"
      },
      "execution_count": 101,
      "outputs": [
        {
          "output_type": "stream",
          "name": "stdout",
          "text": [
            "Encoded (base64) string: XHUwMDUzXHUwMDQ1XHUwMDRDXHUwMDQ1XHUwMDQzXHUwMDU0XHUwMDIwXHUwMDJBXHUwMDIwXHUwMDQ2XHUwMDUyXHUwMDRGXHUwMDREXHUwMDIwXHUwMDc1XHUwMDczXHUwMDY1XHUwMDcyXHUwMDczXHUwMDIwXHUwMDU3XHUwMDQ4XHUwMDQ1XHUwMDUyXHUwMDQ1XHUwMDIwXHUwMDc1XHUwMDczXHUwMDY1XHUwMDcyXHUwMDZFXHUwMDYxXHUwMDZEXHUwMDY1XHUwMDNEXHUwMDI3XHUwMDZBXHUwMDZGXHUwMDY4XHUwMDZFXHUwMDI3XHUwMDNC\n",
            "Decoded (base64) string: SELECT * FROM users WHERE username='john';\n"
          ]
        }
      ]
    },
    {
      "cell_type": "markdown",
      "source": [
        "##**URL Encode - Decode**"
      ],
      "metadata": {
        "id": "sC3cFihQbPDV"
      }
    },
    {
      "cell_type": "code",
      "source": [
        "import urllib.parse\n",
        "\n",
        "def url_encode(str):\n",
        "  return urllib.parse.quote(str)\n",
        "\n",
        "def url_decode(str):\n",
        "  return urllib.parse.unquote(str)\n",
        "\n",
        "sample_string = \"SELECT * FROM users WHERE username='john';\"\n",
        "sample_urlencode = url_encode(sample_string)\n",
        "print(f\"Encoded (URL) string: {sample_urlencode}\")\n",
        "\n",
        "encoded_url_string =\"SELECT%20*%20FROM%20users%20WHERE%20username%3D%27john%27%3B\"\n",
        "sample_urldecode = url_decode(encoded_url_string)\n",
        "print(f\"Decoded (URL) string: {sample_urldecode}\")"
      ],
      "metadata": {
        "colab": {
          "base_uri": "https://localhost:8080/"
        },
        "id": "Kah8NmMAbWvJ",
        "outputId": "4b2e02f7-347c-4318-affe-4a38ac1cf4a4"
      },
      "execution_count": 49,
      "outputs": [
        {
          "output_type": "stream",
          "name": "stdout",
          "text": [
            "Encoded (URL) string: SELECT%20%2A%20FROM%20users%20WHERE%20username%3D%27john%27%3B\n",
            "Decoded (URL) string: SELECT * FROM users WHERE username='john';\n"
          ]
        }
      ]
    },
    {
      "cell_type": "markdown",
      "source": [
        "## **Unicode Encoed - Decode**"
      ],
      "metadata": {
        "id": "zhnXYBERctBW"
      }
    },
    {
      "cell_type": "code",
      "source": [
        "\n",
        "def unicode_encode(str):\n",
        "  return ''.join([f'\\\\u{ord(char):04X}' for char in str])\n",
        "\n",
        "def unicode_decode(str):\n",
        "  return str.encode('utf-8').decode('unicode-escape')\n",
        "\n",
        "sample_string = \"SELECT * FROM users WHERE username='john';\"\n",
        "sample_unicode_encode = unicode_encode(sample_string)\n",
        "print(f\"Encoded (Unicode) string: {sample_unicode_encode}\")\n",
        "\n",
        "sql_payload = \"\\\\u0053\\\\u0045\\\\u004C\\\\u0045\\\\u0043\\\\u0054\\\\u0020\\\\u002A\\\\u0020\\\\u0046\\\\u0052\\\\u004F\\\\u004D\\\\u0020\\\\u0075\\\\u0073\\\\u0065\\\\u0072\\\\u0073\\\\u0020\\\\u0057\\\\u0048\\\\u0045\\\\u0052\\\\u0045\\\\u0020\\\\u0075\\\\u0073\\\\u0065\\\\u0072\\\\u006E\\\\u0061\\\\u006D\\\\u0065\\\\u003D\\\\u0027\\\\u006A\\\\u006F\\\\u0068\\\\u006E\\\\u0027\\\\u003B\"\n",
        "sample_unicode_decode = unicode_decode(sql_payload)\n",
        "print(f\"Decoded (Unicode) string: {sample_unicode_decode}\")"
      ],
      "metadata": {
        "colab": {
          "base_uri": "https://localhost:8080/"
        },
        "id": "EgaqlZglcz9L",
        "outputId": "9fa33416-f7ef-45b0-cd69-ef1db44fcb47"
      },
      "execution_count": 50,
      "outputs": [
        {
          "output_type": "stream",
          "name": "stdout",
          "text": [
            "Encoded (Unicode) string: \\u0053\\u0045\\u004C\\u0045\\u0043\\u0054\\u0020\\u002A\\u0020\\u0046\\u0052\\u004F\\u004D\\u0020\\u0075\\u0073\\u0065\\u0072\\u0073\\u0020\\u0057\\u0048\\u0045\\u0052\\u0045\\u0020\\u0075\\u0073\\u0065\\u0072\\u006E\\u0061\\u006D\\u0065\\u003D\\u0027\\u006A\\u006F\\u0068\\u006E\\u0027\\u003B\n",
            "Decoded (Unicode) string: SELECT * FROM users WHERE username='john';\n"
          ]
        }
      ]
    },
    {
      "cell_type": "markdown",
      "source": [
        "## **Detect Encoded method**\n",
        "befor start decode"
      ],
      "metadata": {
        "id": "huEcrKC3uT5J"
      }
    },
    {
      "cell_type": "code",
      "source": [
        "## detect encoding method type befor decode sql_payload\n",
        "\n",
        "def detect_encoding(sql_payload):\n",
        "    # Check if the payload starts with indicators characteristic of each encoding method\n",
        "    if sql_payload.startswith(('\\\\u', '\\\\U')): #'U',\n",
        "      return 'unicode'\n",
        "\n",
        "    elif '%20' in sql_payload or '%' in sql_payload:\n",
        "      return 'url'\n",
        "\n",
        "    elif sql_payload[-1] == '=' and sql_payload[-2] == '=':\n",
        "      try:\n",
        "        base64.b64decode(sql_payload)\n",
        "        return 'base64'\n",
        "      except Exception as e:\n",
        "        return 'none'\n",
        "\n",
        "    else:\n",
        "      sql_payload += '=='\n",
        "      try:\n",
        "        base64.b64decode(sql_payload)\n",
        "        return 'base64'\n",
        "      except Exception as e:\n",
        "        return 'none'\n",
        "\n",
        "sql_payload = \"U0VMRUNUIA\"\n",
        "encoding_type = detect_encoding(sql_payload)\n",
        "print(\"Detected encoding type:\", encoding_type)"
      ],
      "metadata": {
        "colab": {
          "base_uri": "https://localhost:8080/"
        },
        "id": "DWlqBNABm1_s",
        "outputId": "b2ab7679-13de-46aa-9ff7-70623e01fd7e"
      },
      "execution_count": 83,
      "outputs": [
        {
          "output_type": "stream",
          "name": "stdout",
          "text": [
            "Detected encoding type: base64\n"
          ]
        }
      ]
    },
    {
      "cell_type": "markdown",
      "source": [
        "## **Decode Payload (needed)**"
      ],
      "metadata": {
        "id": "7swcRJPYRNDw"
      }
    },
    {
      "cell_type": "code",
      "source": [
        "import base64\n",
        "import urllib.parse\n",
        "\n",
        "### ------------- Decode function ------------- ###\n",
        "def unicode_decode(str):\n",
        "  return str.encode('utf-8').decode('unicode-escape')\n",
        "\n",
        "def url_decode(str):\n",
        "  return urllib.parse.unquote(str)\n",
        "\n",
        "def base64_decode(base64_string):\n",
        "  base64_bytes = base64_string.encode(\"ascii\")\n",
        "  sample_string_bytes = base64.b64decode(base64_bytes)\n",
        "  sample_str = sample_string_bytes.decode(\"ascii\")\n",
        "  return sample_str\n",
        "\n",
        "def unicode_url_decoding(sql_payload):\n",
        "  if '%20' in sql_payload or '%' in sql_payload:\n",
        "    try:\n",
        "      d_payload = url_decode(sql_payload)\n",
        "    except: # Exception as e:\n",
        "      #print(f\"Decoding error in - unicode_url_decoding() - with: {e}\")\n",
        "      d_payload = sql_payload\n",
        "\n",
        "  elif sql_payload.startswith(('\\\\u', '\\\\U')):\n",
        "    try:\n",
        "      d_payload = unicode_decode(sql_payload)\n",
        "    except: # Exception as e:\n",
        "      d_payload = sql_payload\n",
        "\n",
        "  else:\n",
        "    d_payload = sql_payload\n",
        "\n",
        "  return d_payload\n",
        "\n",
        "\n",
        "\n",
        "### ------------- Decode function ------------- ###\n",
        "def decode_payload(sql_payload):\n",
        "\n",
        "  if sql_payload[-1] == '=' and sql_payload[-2] == '=':\n",
        "    try:\n",
        "      base64_payload = base64_decode(sql_payload)\n",
        "      if base64_payload:\n",
        "        decode_payload = unicode_url_decoding(base64_payload)\n",
        "      else:\n",
        "        decode_payload = unicode_url_decoding(sql_payload)\n",
        "    except Exception as e:\n",
        "        decode_payload = unicode_url_decoding(sql_payload)\n",
        "\n",
        "  else:\n",
        "    sql_payload += '=='\n",
        "    try:\n",
        "      base64_payload = base64_decode(sql_payload)\n",
        "      if base64_payload:\n",
        "        decode_payload = unicode_url_decoding(base64_payload)\n",
        "      else:\n",
        "        decode_payload = unicode_url_decoding(sql_payload)\n",
        "    except Exception as e:\n",
        "      sql_payload = sql_payload[:-2]      # remove last 2 chat == added in this section\n",
        "      decode_payload = unicode_url_decoding(sql_payload)\n",
        "\n",
        "  return decode_payload\n",
        "\n",
        "\n",
        "### ------------- main ------------- ###\n",
        "# Example usage:\n",
        "sql_payload = \"SELECT%20*%20FROM%20users%20WHERE%20username%3D%27john%27%3B\"    # url encoded\n",
        "sql_payload = \"U0VMRUNUICogRlJPTSB1c2VycyBXSEVSRSB1c2VybmFtZT0nam9obic7==\"      # base64 encoded\n",
        "sql_payload = \"\\\\u0053\\\\u0045\\\\u004C\\\\u0045\\\\u0043\\\\u0054\\\\u0020\\\\u002A\\\\u0020\\\\u0046\\\\u0052\\\\u004F\\\\u004D\\\\u0020\\\\u0075\\\\u0073\\\\u0065\\\\u0072\\\\u0073\\\\u0020\\\\u0057\\\\u0048\\\\u0045\\\\u0052\\\\u0045\\\\u0020\\\\u0075\\\\u0073\\\\u0065\\\\u0072\\\\u006E\\\\u0061\\\\u006D\\\\u0065\\\\u003D\\\\u0027\\\\u006A\\\\u006F\\\\u0068\\\\u006E\\\\u0027\\\\u003B\"   # unicode encoded\n",
        "sql_payload = \"U0VMRUNUJTIwKiUyMEZST00lMjB1c2VycyUyMFdIRVJFJTIwdXNlcm5hbWUlM0QlMjdqb2huJTI3JTNC\"   # base64 + url encoded\n",
        "sql_payload = \"XHUwMDUzXHUwMDQ1XHUwMDRDXHUwMDQ1XHUwMDQzXHUwMDU0XHUwMDIwXHUwMDJBXHUwMDIwXHUwMDQ2XHUwMDUyXHUwMDRGXHUwMDREXHUwMDIwXHUwMDc1XHUwMDczXHUwMDY1XHUwMDcyXHUwMDczXHUwMDIwXHUwMDU3XHUwMDQ4XHUwMDQ1XHUwMDUyXHUwMDQ1XHUwMDIwXHUwMDc1XHUwMDczXHUwMDY1XHUwMDcyXHUwMDZFXHUwMDYxXHUwMDZEXHUwMDY1XHUwMDNEXHUwMDI3XHUwMDZBXHUwMDZGXHUwMDY4XHUwMDZFXHUwMDI3XHUwMDNC\"  # base64 + unicode encoded\n",
        "print(\"Befor Decoded payload:\", sql_payload)\n",
        "\n",
        "decoded_payload = decode_payload(sql_payload)\n",
        "if decoded_payload:\n",
        "    print(\"After Decoded payload:\", decoded_payload)\n",
        "else:\n",
        "    print(\"Unable to decode payload using any method.\")"
      ],
      "metadata": {
        "colab": {
          "base_uri": "https://localhost:8080/"
        },
        "id": "hIQASiVyki0N",
        "outputId": "e15a69c8-6eb9-4144-83fa-4596930db192"
      },
      "execution_count": 102,
      "outputs": [
        {
          "output_type": "stream",
          "name": "stdout",
          "text": [
            "Befor Decoded payload: XHUwMDUzXHUwMDQ1XHUwMDRDXHUwMDQ1XHUwMDQzXHUwMDU0XHUwMDIwXHUwMDJBXHUwMDIwXHUwMDQ2XHUwMDUyXHUwMDRGXHUwMDREXHUwMDIwXHUwMDc1XHUwMDczXHUwMDY1XHUwMDcyXHUwMDczXHUwMDIwXHUwMDU3XHUwMDQ4XHUwMDQ1XHUwMDUyXHUwMDQ1XHUwMDIwXHUwMDc1XHUwMDczXHUwMDY1XHUwMDcyXHUwMDZFXHUwMDYxXHUwMDZEXHUwMDY1XHUwMDNEXHUwMDI3XHUwMDZBXHUwMDZGXHUwMDY4XHUwMDZFXHUwMDI3XHUwMDNC\n",
            "After Decoded payload: SELECT * FROM users WHERE username='john';\n"
          ]
        }
      ]
    }
  ]
}