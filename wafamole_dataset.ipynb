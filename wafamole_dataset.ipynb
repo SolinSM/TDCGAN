{
  "nbformat": 4,
  "nbformat_minor": 0,
  "metadata": {
    "colab": {
      "provenance": [],
      "authorship_tag": "ABX9TyMdanq9Lecqthbtay9tGhP9",
      "include_colab_link": true
    },
    "kernelspec": {
      "name": "python3",
      "display_name": "Python 3"
    },
    "language_info": {
      "name": "python"
    }
  },
  "cells": [
    {
      "cell_type": "markdown",
      "metadata": {
        "id": "view-in-github",
        "colab_type": "text"
      },
      "source": [
        "<a href=\"https://colab.research.google.com/github/SolinSM/TDCGAN/blob/main/wafamole_dataset.ipynb\" target=\"_parent\"><img src=\"https://colab.research.google.com/assets/colab-badge.svg\" alt=\"Open In Colab\"/></a>"
      ]
    },
    {
      "cell_type": "markdown",
      "source": [
        "# **Attack Dataset (Malicuos Attack)**"
      ],
      "metadata": {
        "id": "JXe40c0_zLv_"
      }
    },
    {
      "cell_type": "markdown",
      "source": [
        "## **Concating all attak.sql.* from 00 - 12**"
      ],
      "metadata": {
        "id": "zFqIEH_qzWU9"
      }
    },
    {
      "cell_type": "code",
      "source": [
        "cat datasets/waf_attack_data/attacks.sql.* > datasets/attacks.sql"
      ],
      "metadata": {
        "id": "Jk5iTa4Q8aP2"
      },
      "execution_count": 19,
      "outputs": []
    },
    {
      "cell_type": "markdown",
      "source": [
        "## **Split queries as tutorial [readme project file](https://github.com/zangobot/wafamole_dataset/tree/master)**"
      ],
      "metadata": {
        "id": "seSIPLR8z7hw"
      }
    },
    {
      "cell_type": "code",
      "source": [
        "import sqlparse\n",
        "\n",
        "# Split a string containing two SQL statements:\n",
        "attacks = open('datasets/attacks.sql', 'r').read()\n",
        "statements = sqlparse.split(attacks)\n",
        "#statements\n",
        "\n",
        "#number rows of attaks queries\n",
        "print(len(statements))"
      ],
      "metadata": {
        "colab": {
          "base_uri": "https://localhost:8080/"
        },
        "id": "dRXDA54A0O_O",
        "outputId": "1e9523b2-e102-4499-845d-96429fe45fcd"
      },
      "execution_count": 20,
      "outputs": [
        {
          "output_type": "stream",
          "name": "stdout",
          "text": [
            "393629\n"
          ]
        }
      ]
    },
    {
      "cell_type": "markdown",
      "source": [
        "## **Add to excel & csv file**"
      ],
      "metadata": {
        "id": "ErGiPVvL6cP1"
      }
    },
    {
      "cell_type": "code",
      "source": [
        "\"\"\"\n",
        "for s in statements[:10]:\n",
        "  print(s)\n",
        "  print('------------------')\n",
        "\"\"\"\n",
        "\n",
        "# Add each statment to new file called testing_log.txt and separate each line with \"------------------\"\n",
        "for s in statements:\n",
        "  with open(\"datasets/all_attack_log.txt\", \"a\") as myfile:\n",
        "    myfile.write(s)\n",
        "    myfile.write('------------------')\n",
        "\n",
        "# Read from file and then split them to get each row in array\n",
        "with open('datasets/all_attack_log.txt', 'r') as f:\n",
        "   lines = f.read().split('------------------')\n",
        "\n",
        "\n",
        "\n",
        "############### Add prev data to csv file ###############\n",
        "# re-define each row to contain 2 column (sentance, attack_type) ==> ( 1 for attack / 0 for no attak) in attack_type\n",
        "mm = []\n",
        "for x in lines:\n",
        "  mm.append( [x , 1] )\n",
        "#print(mm)\n",
        "\n",
        "\n",
        "import csv\n",
        "\n",
        "fields = ['sentence' , 'attack_type']\n",
        "\n",
        "with open('datasets/wafamole_dataset_attack.csv', 'w') as f:\n",
        "  write = csv.writer(f)\n",
        "\n",
        "  write.writerow(fields)\n",
        "  write.writerows(mm)\n",
        "\n"
      ],
      "metadata": {
        "id": "0EmB8G6B1pSq"
      },
      "execution_count": 23,
      "outputs": []
    },
    {
      "cell_type": "code",
      "source": [
        "\n",
        "############### Add to excel File ###############\n",
        "import pandas as pd\n",
        "\n",
        "# Existing Excel file\n",
        "existing_file = 'datasets/wafamole_dataset_attack.xlsx'\n",
        "\n",
        "# New data to append\n",
        "new_data = {'sentence': lines, 'attack_type': 0}\n",
        "df_new = pd.DataFrame(new_data)\n",
        "\n",
        "# Read existing data\n",
        "df_existing = pd.read_excel(existing_file)\n",
        "\n",
        "# Append new data\n",
        "df_combined = df_existing.append(df_new, ignore_index=True)\n",
        "\n",
        "# Save the combined data to Excel\n",
        "df_combined.to_excel(existing_file, index=False)\n",
        "\n"
      ],
      "metadata": {
        "id": "rAQq_IoiCInV"
      },
      "execution_count": null,
      "outputs": []
    }
  ]
}